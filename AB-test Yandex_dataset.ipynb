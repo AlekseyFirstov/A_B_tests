{
 "cells": [
  {
   "cell_type": "code",
   "execution_count": 107,
   "metadata": {},
   "outputs": [],
   "source": [
    "import numpy as np\n",
    "import matplotlib.pyplot as plt\n",
    "import pandas as pd\n",
    "from scipy import stats\n",
    "import seaborn as sns\n",
    "import numba as nb\n",
    "import warnings\n",
    "warnings.filterwarnings(\"ignore\")\n",
    "from statsmodels.stats import multitest as mlt\n",
    "%matplotlib inline"
   ]
  },
  {
   "cell_type": "markdown",
   "metadata": {},
   "source": [
    "Датасет АБ теста, проведенный на пользователях Яндекса. \n",
    "* подтвердим или опровергнем наличие изменений в пользовательском поведении между контрольной (control) и тестовой (exp) группами\n",
    "* определим характер этих изменений и практическую значимость вводимого изменения\n",
    "* определим, какая из пользовательских групп более всего проигрывает / выигрывает от тестируемого изменения (локализовать изменение)"
   ]
  },
  {
   "cell_type": "code",
   "execution_count": 2,
   "metadata": {},
   "outputs": [
    {
     "data": {
      "text/html": [
       "<div>\n",
       "<style scoped>\n",
       "    .dataframe tbody tr th:only-of-type {\n",
       "        vertical-align: middle;\n",
       "    }\n",
       "\n",
       "    .dataframe tbody tr th {\n",
       "        vertical-align: top;\n",
       "    }\n",
       "\n",
       "    .dataframe thead th {\n",
       "        text-align: right;\n",
       "    }\n",
       "</style>\n",
       "<table border=\"1\" class=\"dataframe\">\n",
       "  <thead>\n",
       "    <tr style=\"text-align: right;\">\n",
       "      <th></th>\n",
       "      <th>userID</th>\n",
       "      <th>browser</th>\n",
       "      <th>slot</th>\n",
       "      <th>n_clicks</th>\n",
       "      <th>n_queries</th>\n",
       "      <th>n_nonclk_queries</th>\n",
       "    </tr>\n",
       "  </thead>\n",
       "  <tbody>\n",
       "    <tr>\n",
       "      <th>0</th>\n",
       "      <td>1</td>\n",
       "      <td>Browser #2</td>\n",
       "      <td>exp</td>\n",
       "      <td>23</td>\n",
       "      <td>32</td>\n",
       "      <td>19</td>\n",
       "    </tr>\n",
       "    <tr>\n",
       "      <th>1</th>\n",
       "      <td>3</td>\n",
       "      <td>Browser #4</td>\n",
       "      <td>exp</td>\n",
       "      <td>3</td>\n",
       "      <td>4</td>\n",
       "      <td>2</td>\n",
       "    </tr>\n",
       "    <tr>\n",
       "      <th>2</th>\n",
       "      <td>5</td>\n",
       "      <td>Browser #4</td>\n",
       "      <td>exp</td>\n",
       "      <td>29</td>\n",
       "      <td>35</td>\n",
       "      <td>16</td>\n",
       "    </tr>\n",
       "    <tr>\n",
       "      <th>3</th>\n",
       "      <td>6</td>\n",
       "      <td>Browser #4</td>\n",
       "      <td>control</td>\n",
       "      <td>12</td>\n",
       "      <td>6</td>\n",
       "      <td>0</td>\n",
       "    </tr>\n",
       "    <tr>\n",
       "      <th>4</th>\n",
       "      <td>7</td>\n",
       "      <td>Browser #4</td>\n",
       "      <td>exp</td>\n",
       "      <td>54</td>\n",
       "      <td>68</td>\n",
       "      <td>30</td>\n",
       "    </tr>\n",
       "  </tbody>\n",
       "</table>\n",
       "</div>"
      ],
      "text/plain": [
       "   userID     browser     slot  n_clicks  n_queries  n_nonclk_queries\n",
       "0       1  Browser #2      exp        23         32                19\n",
       "1       3  Browser #4      exp         3          4                 2\n",
       "2       5  Browser #4      exp        29         35                16\n",
       "3       6  Browser #4  control        12          6                 0\n",
       "4       7  Browser #4      exp        54         68                30"
      ]
     },
     "execution_count": 2,
     "metadata": {},
     "output_type": "execute_result"
    }
   ],
   "source": [
    "df = pd.read_csv('ab_browser_test.csv')\n",
    "df.head(5)"
   ]
  },
  {
   "cell_type": "markdown",
   "metadata": {},
   "source": [
    "Описание данных:\n",
    "\n",
    "* userID: уникальный идентификатор пользователя \n",
    "* browser: браузер, который использовал userID\n",
    "* slot: в каком статусе пользователь участвовал в исследовании (exp = видел измененную страницу, control = видел неизменную страницу)\n",
    "* n_clicks: количество кликов, которые пользоваль совершил за n_queries\n",
    "* n_queries: количество запросов, который совершил userID, пользуясь браузером browser\n",
    "* n_nonclk_queries: количество запросов пользователя, в которых им не было совершено ни одного клика\n",
    "\n"
   ]
  },
  {
   "cell_type": "markdown",
   "metadata": {},
   "source": [
    "Основная метрика — это количество пользовательских кликов на web-странице в зависимости от тестируемого изменения этой страницы."
   ]
  },
  {
   "cell_type": "code",
   "execution_count": 3,
   "metadata": {},
   "outputs": [
    {
     "data": {
      "text/plain": [
       "1.6135689824415778"
      ]
     },
     "execution_count": 3,
     "metadata": {},
     "output_type": "execute_result"
    }
   ],
   "source": [
    "#насколько в группе exp больше пользовательских кликов по сравнению с группой control\n",
    "#в процентах от числа кликов в контрольной группе.\n",
    "np.abs(100 - 100 * np.sum(df[df['slot']=='exp']['n_clicks'].values) / np.sum(df[df['slot']=='control']['n_clicks'].values))"
   ]
  },
  {
   "cell_type": "markdown",
   "metadata": {},
   "source": [
    "Сравним доверительные интервалы медиан и средних для двух групп"
   ]
  },
  {
   "cell_type": "code",
   "execution_count": 4,
   "metadata": {},
   "outputs": [
    {
     "data": {
      "text/plain": [
       "<matplotlib.axes._subplots.AxesSubplot at 0x20b1186c8c8>"
      ]
     },
     "execution_count": 4,
     "metadata": {},
     "output_type": "execute_result"
    },
    {
     "data": {
      "image/png": "[encoded data removed]",
      "text/plain": [
       "<Figure size 432x288 with 1 Axes>"
      ]
     },
     "metadata": {
      "needs_background": "light"
     },
     "output_type": "display_data"
    }
   ],
   "source": [
    "#Распределение данных\n",
    "df[df['slot']=='exp']['n_clicks'].hist()\n",
    "df[df['slot']=='control']['n_clicks'].hist()\n"
   ]
  },
  {
   "cell_type": "markdown",
   "metadata": {},
   "source": [
    "Распределения явно отличны от нормального, для построения доверительного интервала воспользуемся методом бутстрапа"
   ]
  },
  {
   "cell_type": "code",
   "execution_count": 4,
   "metadata": {},
   "outputs": [],
   "source": [
    "#функции для бустрапа\n",
    "@nb.jit(parallel=True)#обернем декаратором для ускорения расчета\n",
    "def get_bootstrap_samples(data, n_samples):#генерация выборок\n",
    "    #случайные индексы для извлечения даннных\n",
    "    indices = np.random.randint(0, len(data), (n_samples, len(data)))\n",
    "    #генерация подвыборки\n",
    "    samples = data[indices]\n",
    "    return samples\n",
    "\n",
    "def stat_intervals(stat, alpha):#построение интервалов\n",
    "    #верхняя и нижняя границы 95% доверительного интервала\n",
    "    boundaries = np.percentile(stat, [100 * alpha / 2., 100 * (1 - alpha / 2.)])\n",
    "    return boundaries"
   ]
  },
  {
   "cell_type": "code",
   "execution_count": 5,
   "metadata": {},
   "outputs": [],
   "source": [
    "#клики в экспериментальной группе\n",
    "exp_clicks = df[df['slot']=='exp']['n_clicks'].values\n",
    "#клики в контрольной группе\n",
    "control_clicks = df[df['slot']=='control']['n_clicks'].values"
   ]
  },
  {
   "cell_type": "code",
   "execution_count": 7,
   "metadata": {},
   "outputs": [
    {
     "name": "stdout",
     "output_type": "stream",
     "text": [
      "95% интервал медиан для экспериментальной группы: [5. 5.]\n",
      "95% интервал медиан для тестовой группы: [4. 4.]\n"
     ]
    }
   ],
   "source": [
    "np.random.seed(0)\n",
    "#Сгенерируем 1000 подвыборок из выборки и оценим интервально медиану\n",
    "exp_clicks_median = list(map(np.median, get_bootstrap_samples(exp_clicks, 1000)))\n",
    "control_clicks_median = list(map(np.median, get_bootstrap_samples(control_clicks, 1000)))\n",
    "\n",
    "print(\"95% интервал медиан для экспериментальной группы:\",  stat_intervals(exp_clicks_median, 0.05))\n",
    "print(\"95% интервал медиан для тестовой группы:\",  stat_intervals(control_clicks_median, 0.05))"
   ]
  },
  {
   "cell_type": "code",
   "execution_count": 8,
   "metadata": {},
   "outputs": [
    {
     "name": "stdout",
     "output_type": "stream",
     "text": [
      "95% интервал средних для экспериментальной группы: [11.5086867  11.66089388]\n",
      "95% интервал средних для тестовой группы: [11.20795095 11.35742732]\n"
     ]
    }
   ],
   "source": [
    "np.random.seed(0)\n",
    "#Сгенерируем 1000 подвыборок из выборки и оценим интервально среднее\n",
    "exp_clicks_mean = list(map(np.mean, get_bootstrap_samples(exp_clicks, 1000)))\n",
    "control_clicks_mean = list(map(np.mean, get_bootstrap_samples(control_clicks, 1000)))\n",
    "\n",
    "print(\"95% интервал средних для экспериментальной группы:\",  stat_intervals(exp_clicks_mean, 0.05))\n",
    "print(\"95% интервал средних для тестовой группы:\",  stat_intervals(control_clicks_mean, 0.05))"
   ]
  },
  {
   "cell_type": "markdown",
   "metadata": {},
   "source": [
    "Сравним разности медиан и средних. Если они не содержат ноль, то средние и медианы отличаются статистически значимо."
   ]
  },
  {
   "cell_type": "code",
   "execution_count": 21,
   "metadata": {},
   "outputs": [],
   "source": [
    "#Разность медиан\n",
    "delta_median_scores = list(map(lambda x: x[1] - x[0], zip(exp_clicks_median, control_clicks_median)))\n",
    "#Разность средних\n",
    "delta_mean_scores = list(map(lambda x: x[1] - x[0], zip(exp_clicks_mean, control_clicks_mean)))"
   ]
  },
  {
   "cell_type": "code",
   "execution_count": 22,
   "metadata": {},
   "outputs": [
    {
     "name": "stdout",
     "output_type": "stream",
     "text": [
      "95% интервал разности медиан [-1. -1.]\n",
      "95% интервал разности средних [-0.40475697 -0.19172563]\n"
     ]
    }
   ],
   "source": [
    "print(\"95% интервал разности медиан\",  stat_intervals(delta_median_scores, 0.05))\n",
    "print(\"95% интервал разности средних\",  stat_intervals(delta_mean_scores, 0.05))"
   ]
  },
  {
   "cell_type": "markdown",
   "metadata": {},
   "source": [
    "Интервал разности средних и медиан не содержит 0. Отличия в данных выборочных статистиках статистически значимо. Число кликов в экспериментальной группе действительно больше, чем в тестовой"
   ]
  },
  {
   "cell_type": "code",
   "execution_count": 121,
   "metadata": {},
   "outputs": [
    {
     "name": "stdout",
     "output_type": "stream",
     "text": [
      "(284392, 2) (281450, 2)\n"
     ]
    }
   ],
   "source": [
    "#Проверим гипотезу о равенстве распределений кликов в двух группа с помощью критерия Манна-Уитни\n",
    "#Поскольку в выборке есть юзеры, которые заходили из разных браузеров, то необходимо их собрать в один массив и сложить\n",
    "#количество кликов, после этого построить распределения\n",
    "\n",
    "#Объединим массивы по номеру пользователя, сложим клики\n",
    "df2 = df.groupby(['userID']).agg({'n_clicks' : 'sum',\n",
    "                           'slot' : 'first'})\n",
    "print(df2[df2['slot']=='control'].shape,df2[df2['slot']=='exp'].shape)"
   ]
  },
  {
   "cell_type": "markdown",
   "metadata": {},
   "source": [
    "Будем проверять нулевую гипотезу о том, что распределения кликов контрольной и тестовой группой равны, против альтернативы, что они не равны. Поскольку выборки независимы, критерий Манна-Уитни можно использовать. Примем уровень доверия 0,05"
   ]
  },
  {
   "cell_type": "code",
   "execution_count": 81,
   "metadata": {},
   "outputs": [
    {
     "data": {
      "text/plain": [
       "4.3471471887604393e-75"
      ]
     },
     "execution_count": 81,
     "metadata": {},
     "output_type": "execute_result"
    }
   ],
   "source": [
    "stats.mannwhitneyu(df2[df2['slot']=='control']['n_clicks'], df2[df2['slot']=='exp']['n_clicks'])[1]"
   ]
  },
  {
   "cell_type": "markdown",
   "metadata": {},
   "source": [
    "Таким образом, получившееся значение достигаемого уровня значимости свидетельствует о статистической значимости отличий между двумя выборками"
   ]
  },
  {
   "cell_type": "code",
   "execution_count": 71,
   "metadata": {},
   "outputs": [
    {
     "data": {
      "text/plain": [
       "(array(['Browser #14', 'Browser #17', 'Browser #2', 'Browser #20',\n",
       "        'Browser #22', 'Browser #4'], dtype=object),\n",
       " array([ 89123,  32607, 110737,  33929, 142905, 156833], dtype=int64))"
      ]
     },
     "execution_count": 71,
     "metadata": {},
     "output_type": "execute_result"
    }
   ],
   "source": [
    "np.unique(df['browser'], return_counts=True)"
   ]
  },
  {
   "cell_type": "markdown",
   "metadata": {},
   "source": [
    "Проверим, для какого из браузеров наиболее сильно выражено отличие между количеством кликов в контрольной и экспериментальной группах. Для Каждого браузера посчитаем критерий Манна-Уитни между контрольной и тестовыми группами, поскольку имеем несколько проверок гипотез используем поправку Холма-Бонферонни"
   ]
  },
  {
   "cell_type": "code",
   "execution_count": 86,
   "metadata": {},
   "outputs": [
    {
     "data": {
      "text/plain": [
       "array(['Browser #14', 'Browser #17', 'Browser #2', 'Browser #20',\n",
       "       'Browser #22', 'Browser #4'], dtype=object)"
      ]
     },
     "execution_count": 86,
     "metadata": {},
     "output_type": "execute_result"
    }
   ],
   "source": [
    "#Получим список браузеров\n",
    "browsers = np.unique(df['browser'], return_counts=True)[0]\n",
    "browsers"
   ]
  },
  {
   "cell_type": "code",
   "execution_count": 109,
   "metadata": {},
   "outputs": [],
   "source": [
    "#контейнер для хранения\n",
    "p_values = []\n",
    "#для каждого браузера\n",
    "for browser in browsers:\n",
    "    #формируем группу контроля\n",
    "    control = df[(df['browser']==browser) & (df['slot']=='control')]['n_clicks']\n",
    "    #формируем группу теста\n",
    "    exp = df[(df['browser']==browser) & (df['slot']=='exp')]['n_clicks']\n",
    "    #считаем p-value\n",
    "    p_values.append(stats.mannwhitneyu(control, exp)[1])\n",
    "    \n",
    "#подаем значения на вход функции множественной проверки гипотез\n",
    "rejected, p_corrected, a1, a2 = mlt.multipletests(p_values, alpha=0.05, method='holm')"
   ]
  },
  {
   "cell_type": "code",
   "execution_count": 110,
   "metadata": {},
   "outputs": [
    {
     "name": "stdout",
     "output_type": "stream",
     "text": [
      "[ True False False False False False] [0.         0.14960241 0.1362193  0.81521235 0.77221655 0.81521235]\n"
     ]
    }
   ],
   "source": [
    "print(rejected, p_corrected)"
   ]
  },
  {
   "cell_type": "markdown",
   "metadata": {},
   "source": [
    "По результатам сравнения распределения кликов в зависимости от браузера на контрольной и тестовой группах согласно критерию Манна-Уитни в совокупности с множественной проверкой гипотез можно установить, что только для браузера \"Browser #14\" различия в кликах статистически значимо."
   ]
  },
  {
   "cell_type": "markdown",
   "metadata": {},
   "source": [
    "Посмотрим на число некликнутых запросов, посчитаем их долю для каждого браузера и группы"
   ]
  },
  {
   "cell_type": "code",
   "execution_count": 182,
   "metadata": {},
   "outputs": [],
   "source": [
    "#сгруппируем по браузеру контрольную группу\n",
    "df_control = df[df['slot']=='control'].groupby(['browser']).agg({'n_nonclk_queries' : 'sum', 'n_queries': 'sum'})\n",
    "#сгруппируем по браузеру тестовую группу\n",
    "df_exp = df[df['slot']=='exp'].groupby(['browser']).agg({'n_nonclk_queries' : 'sum', 'n_queries': 'sum'})"
   ]
  },
  {
   "cell_type": "code",
   "execution_count": 183,
   "metadata": {},
   "outputs": [
    {
     "data": {
      "text/html": [
       "<div>\n",
       "<style scoped>\n",
       "    .dataframe tbody tr th:only-of-type {\n",
       "        vertical-align: middle;\n",
       "    }\n",
       "\n",
       "    .dataframe tbody tr th {\n",
       "        vertical-align: top;\n",
       "    }\n",
       "\n",
       "    .dataframe thead th {\n",
       "        text-align: right;\n",
       "    }\n",
       "</style>\n",
       "<table border=\"1\" class=\"dataframe\">\n",
       "  <thead>\n",
       "    <tr style=\"text-align: right;\">\n",
       "      <th></th>\n",
       "      <th>n_nonclk_queries</th>\n",
       "      <th>n_queries</th>\n",
       "      <th>nonclick_proportion</th>\n",
       "    </tr>\n",
       "    <tr>\n",
       "      <th>browser</th>\n",
       "      <th></th>\n",
       "      <th></th>\n",
       "      <th></th>\n",
       "    </tr>\n",
       "  </thead>\n",
       "  <tbody>\n",
       "    <tr>\n",
       "      <th>Browser #14</th>\n",
       "      <td>161252</td>\n",
       "      <td>279998</td>\n",
       "      <td>57.590411</td>\n",
       "    </tr>\n",
       "    <tr>\n",
       "      <th>Browser #17</th>\n",
       "      <td>75837</td>\n",
       "      <td>208921</td>\n",
       "      <td>36.299367</td>\n",
       "    </tr>\n",
       "    <tr>\n",
       "      <th>Browser #2</th>\n",
       "      <td>260259</td>\n",
       "      <td>566239</td>\n",
       "      <td>45.962747</td>\n",
       "    </tr>\n",
       "    <tr>\n",
       "      <th>Browser #20</th>\n",
       "      <td>78548</td>\n",
       "      <td>193752</td>\n",
       "      <td>40.540485</td>\n",
       "    </tr>\n",
       "    <tr>\n",
       "      <th>Browser #22</th>\n",
       "      <td>315470</td>\n",
       "      <td>777135</td>\n",
       "      <td>40.593977</td>\n",
       "    </tr>\n",
       "    <tr>\n",
       "      <th>Browser #4</th>\n",
       "      <td>498254</td>\n",
       "      <td>1060771</td>\n",
       "      <td>46.970930</td>\n",
       "    </tr>\n",
       "  </tbody>\n",
       "</table>\n",
       "</div>"
      ],
      "text/plain": [
       "             n_nonclk_queries  n_queries  nonclick_proportion\n",
       "browser                                                      \n",
       "Browser #14            161252     279998            57.590411\n",
       "Browser #17             75837     208921            36.299367\n",
       "Browser #2             260259     566239            45.962747\n",
       "Browser #20             78548     193752            40.540485\n",
       "Browser #22            315470     777135            40.593977\n",
       "Browser #4             498254    1060771            46.970930"
      ]
     },
     "execution_count": 183,
     "metadata": {},
     "output_type": "execute_result"
    }
   ],
   "source": [
    "#доля некликнут запросов в контрольной группе по каждому браузеру\n",
    "df_control['nonclick_proportion'] = df_control['n_nonclk_queries'] / df_control['n_queries'] * 100\n",
    "df_control"
   ]
  },
  {
   "cell_type": "code",
   "execution_count": 184,
   "metadata": {},
   "outputs": [
    {
     "data": {
      "text/html": [
       "<div>\n",
       "<style scoped>\n",
       "    .dataframe tbody tr th:only-of-type {\n",
       "        vertical-align: middle;\n",
       "    }\n",
       "\n",
       "    .dataframe tbody tr th {\n",
       "        vertical-align: top;\n",
       "    }\n",
       "\n",
       "    .dataframe thead th {\n",
       "        text-align: right;\n",
       "    }\n",
       "</style>\n",
       "<table border=\"1\" class=\"dataframe\">\n",
       "  <thead>\n",
       "    <tr style=\"text-align: right;\">\n",
       "      <th></th>\n",
       "      <th>n_nonclk_queries</th>\n",
       "      <th>n_queries</th>\n",
       "      <th>nonclick_proportion</th>\n",
       "    </tr>\n",
       "    <tr>\n",
       "      <th>browser</th>\n",
       "      <th></th>\n",
       "      <th></th>\n",
       "      <th></th>\n",
       "    </tr>\n",
       "  </thead>\n",
       "  <tbody>\n",
       "    <tr>\n",
       "      <th>Browser #14</th>\n",
       "      <td>123656</td>\n",
       "      <td>282606</td>\n",
       "      <td>43.755617</td>\n",
       "    </tr>\n",
       "    <tr>\n",
       "      <th>Browser #17</th>\n",
       "      <td>77614</td>\n",
       "      <td>210123</td>\n",
       "      <td>36.937413</td>\n",
       "    </tr>\n",
       "    <tr>\n",
       "      <th>Browser #2</th>\n",
       "      <td>246514</td>\n",
       "      <td>548019</td>\n",
       "      <td>44.982747</td>\n",
       "    </tr>\n",
       "    <tr>\n",
       "      <th>Browser #20</th>\n",
       "      <td>72998</td>\n",
       "      <td>187283</td>\n",
       "      <td>38.977376</td>\n",
       "    </tr>\n",
       "    <tr>\n",
       "      <th>Browser #22</th>\n",
       "      <td>296177</td>\n",
       "      <td>743156</td>\n",
       "      <td>39.853947</td>\n",
       "    </tr>\n",
       "    <tr>\n",
       "      <th>Browser #4</th>\n",
       "      <td>456508</td>\n",
       "      <td>1011250</td>\n",
       "      <td>45.142942</td>\n",
       "    </tr>\n",
       "  </tbody>\n",
       "</table>\n",
       "</div>"
      ],
      "text/plain": [
       "             n_nonclk_queries  n_queries  nonclick_proportion\n",
       "browser                                                      \n",
       "Browser #14            123656     282606            43.755617\n",
       "Browser #17             77614     210123            36.937413\n",
       "Browser #2             246514     548019            44.982747\n",
       "Browser #20             72998     187283            38.977376\n",
       "Browser #22            296177     743156            39.853947\n",
       "Browser #4             456508    1011250            45.142942"
      ]
     },
     "execution_count": 184,
     "metadata": {},
     "output_type": "execute_result"
    }
   ],
   "source": [
    "#доля некликнут запросов в тестовой группе по каждому браузеру\n",
    "df_exp['nonclick_proportion'] = df_exp['n_nonclk_queries'] / df_exp['n_queries'] * 100\n",
    "df_exp"
   ]
  },
  {
   "cell_type": "markdown",
   "metadata": {},
   "source": [
    "С помощью анализа мы показали, что тестируемое изменение приводит к статистически значимому отличию только для одного браузера. Для этого браузера на основе данных о доли некликнутых запросов, заключаем, что тестируемое изменение влияет на пользователей позитивно.\n",
    "Это установлено как формально (с помощью статистических критериев, так и визуально с помощью сранения таблиц)"
   ]
  },
  {
   "cell_type": "code",
   "execution_count": null,
   "metadata": {},
   "outputs": [],
   "source": []
  },
  {
   "cell_type": "code",
   "execution_count": null,
   "metadata": {},
   "outputs": [],
   "source": []
  },
  {
   "cell_type": "code",
   "execution_count": null,
   "metadata": {},
   "outputs": [],
   "source": []
  },
  {
   "cell_type": "code",
   "execution_count": null,
   "metadata": {},
   "outputs": [],
   "source": []
  },
  {
   "cell_type": "code",
   "execution_count": null,
   "metadata": {},
   "outputs": [],
   "source": []
  },
  {
   "cell_type": "code",
   "execution_count": null,
   "metadata": {},
   "outputs": [],
   "source": []
  }
 ],
 "metadata": {
  "kernelspec": {
   "display_name": "Python 3",
   "language": "python",
   "name": "python3"
  },
  "language_info": {
   "codemirror_mode": {
    "name": "ipython",
    "version": 3
   },
   "file_extension": ".py",
   "mimetype": "text/x-python",
   "name": "python",
   "nbconvert_exporter": "python",
   "pygments_lexer": "ipython3",
   "version": "3.7.6"
  }
 },
 "nbformat": 4,
 "nbformat_minor": 4
}
